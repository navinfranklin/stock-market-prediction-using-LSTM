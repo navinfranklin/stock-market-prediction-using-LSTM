{
 "cells": [
  {
   "cell_type": "markdown",
   "metadata": {
    "id": "kMNw-kNGxwOE"
   },
   "source": [
    "# stock market prediction using LSTM"
   ]
  },
  {
   "cell_type": "markdown",
   "metadata": {
    "id": "7-1dvAu-lv8-"
   },
   "source": [
    "# for data collection we have used pandas data reader which is a inbuild feature in pandas ..i have not mentioned api key for security issues"
   ]
  },
  {
   "cell_type": "code",
   "execution_count": null,
   "metadata": {
    "id": "36kbH8-nUxME"
   },
   "outputs": [],
   "source": [
    "import pandas_datareader as pdr"
   ]
  },
  {
   "cell_type": "code",
   "execution_count": null,
   "metadata": {
    "id": "QBTkmWOlXD-L"
   },
   "outputs": [],
   "source": [
    "df = pdr.get_data_tiingo('AAPL', api_key= \"key\")"
   ]
  },
  {
   "cell_type": "markdown",
   "metadata": {
    "id": "EwgDpmAFmURP"
   },
   "source": [
    "# after we have imported the data from the tiingo api we need to convert into csv"
   ]
  },
  {
   "cell_type": "code",
   "execution_count": null,
   "metadata": {
    "id": "XNmVqeG4Xhbc"
   },
   "outputs": [],
   "source": [
    "df.to_csv('AAPL.csv')"
   ]
  },
  {
   "cell_type": "code",
   "execution_count": null,
   "metadata": {
    "id": "YPsHsezGYTfF"
   },
   "outputs": [],
   "source": [
    "import pandas as pd"
   ]
  },
  {
   "cell_type": "code",
   "execution_count": null,
   "metadata": {
    "id": "-4_je9CdYZsi"
   },
   "outputs": [],
   "source": [
    "df=pd.read_csv('AAPL.csv')"
   ]
  },
  {
   "cell_type": "markdown",
   "metadata": {
    "id": "WAw79-TBm1F3"
   },
   "source": [
    "# exploring the data"
   ]
  },
  {
   "cell_type": "code",
   "execution_count": null,
   "metadata": {
    "colab": {
     "base_uri": "https://localhost:8080/",
     "height": 195
    },
    "id": "EfN2ZrPTYfQU",
    "outputId": "6006c5a9-2438-4174-f6c0-2128fb0344ac"
   },
   "outputs": [
    {
     "data": {
      "text/html": [
       "<div>\n",
       "<style scoped>\n",
       "    .dataframe tbody tr th:only-of-type {\n",
       "        vertical-align: middle;\n",
       "    }\n",
       "\n",
       "    .dataframe tbody tr th {\n",
       "        vertical-align: top;\n",
       "    }\n",
       "\n",
       "    .dataframe thead th {\n",
       "        text-align: right;\n",
       "    }\n",
       "</style>\n",
       "<table border=\"1\" class=\"dataframe\">\n",
       "  <thead>\n",
       "    <tr style=\"text-align: right;\">\n",
       "      <th></th>\n",
       "      <th>symbol</th>\n",
       "      <th>date</th>\n",
       "      <th>close</th>\n",
       "      <th>high</th>\n",
       "      <th>low</th>\n",
       "      <th>open</th>\n",
       "      <th>volume</th>\n",
       "      <th>adjClose</th>\n",
       "      <th>adjHigh</th>\n",
       "      <th>adjLow</th>\n",
       "      <th>adjOpen</th>\n",
       "      <th>adjVolume</th>\n",
       "      <th>divCash</th>\n",
       "      <th>splitFactor</th>\n",
       "    </tr>\n",
       "  </thead>\n",
       "  <tbody>\n",
       "    <tr>\n",
       "      <th>0</th>\n",
       "      <td>AAPL</td>\n",
       "      <td>2015-11-03 00:00:00+00:00</td>\n",
       "      <td>122.57</td>\n",
       "      <td>123.49</td>\n",
       "      <td>120.70</td>\n",
       "      <td>120.79</td>\n",
       "      <td>45518976</td>\n",
       "      <td>28.313084</td>\n",
       "      <td>28.525599</td>\n",
       "      <td>27.881122</td>\n",
       "      <td>27.901912</td>\n",
       "      <td>182075904</td>\n",
       "      <td>0.00</td>\n",
       "      <td>1.0</td>\n",
       "    </tr>\n",
       "    <tr>\n",
       "      <th>1</th>\n",
       "      <td>AAPL</td>\n",
       "      <td>2015-11-04 00:00:00+00:00</td>\n",
       "      <td>122.00</td>\n",
       "      <td>123.82</td>\n",
       "      <td>121.62</td>\n",
       "      <td>123.13</td>\n",
       "      <td>44886050</td>\n",
       "      <td>28.181416</td>\n",
       "      <td>28.601828</td>\n",
       "      <td>28.093638</td>\n",
       "      <td>28.442441</td>\n",
       "      <td>179544200</td>\n",
       "      <td>0.00</td>\n",
       "      <td>1.0</td>\n",
       "    </tr>\n",
       "    <tr>\n",
       "      <th>2</th>\n",
       "      <td>AAPL</td>\n",
       "      <td>2015-11-05 00:00:00+00:00</td>\n",
       "      <td>120.92</td>\n",
       "      <td>122.69</td>\n",
       "      <td>120.18</td>\n",
       "      <td>121.85</td>\n",
       "      <td>39552680</td>\n",
       "      <td>28.052059</td>\n",
       "      <td>28.462679</td>\n",
       "      <td>27.880387</td>\n",
       "      <td>28.267808</td>\n",
       "      <td>158210720</td>\n",
       "      <td>0.52</td>\n",
       "      <td>1.0</td>\n",
       "    </tr>\n",
       "    <tr>\n",
       "      <th>3</th>\n",
       "      <td>AAPL</td>\n",
       "      <td>2015-11-06 00:00:00+00:00</td>\n",
       "      <td>121.06</td>\n",
       "      <td>121.81</td>\n",
       "      <td>120.62</td>\n",
       "      <td>121.11</td>\n",
       "      <td>33042283</td>\n",
       "      <td>28.084537</td>\n",
       "      <td>28.258529</td>\n",
       "      <td>27.982462</td>\n",
       "      <td>28.096137</td>\n",
       "      <td>132169132</td>\n",
       "      <td>0.00</td>\n",
       "      <td>1.0</td>\n",
       "    </tr>\n",
       "    <tr>\n",
       "      <th>4</th>\n",
       "      <td>AAPL</td>\n",
       "      <td>2015-11-09 00:00:00+00:00</td>\n",
       "      <td>120.57</td>\n",
       "      <td>121.81</td>\n",
       "      <td>120.05</td>\n",
       "      <td>120.96</td>\n",
       "      <td>33871405</td>\n",
       "      <td>27.970863</td>\n",
       "      <td>28.258529</td>\n",
       "      <td>27.850229</td>\n",
       "      <td>28.061338</td>\n",
       "      <td>135485620</td>\n",
       "      <td>0.00</td>\n",
       "      <td>1.0</td>\n",
       "    </tr>\n",
       "  </tbody>\n",
       "</table>\n",
       "</div>"
      ],
      "text/plain": [
       "  symbol                       date   close  ...  adjVolume  divCash  splitFactor\n",
       "0   AAPL  2015-11-03 00:00:00+00:00  122.57  ...  182075904     0.00          1.0\n",
       "1   AAPL  2015-11-04 00:00:00+00:00  122.00  ...  179544200     0.00          1.0\n",
       "2   AAPL  2015-11-05 00:00:00+00:00  120.92  ...  158210720     0.52          1.0\n",
       "3   AAPL  2015-11-06 00:00:00+00:00  121.06  ...  132169132     0.00          1.0\n",
       "4   AAPL  2015-11-09 00:00:00+00:00  120.57  ...  135485620     0.00          1.0\n",
       "\n",
       "[5 rows x 14 columns]"
      ]
     },
     "execution_count": 7,
     "metadata": {
      "tags": []
     },
     "output_type": "execute_result"
    }
   ],
   "source": [
    "df.head()"
   ]
  },
  {
   "cell_type": "code",
   "execution_count": null,
   "metadata": {
    "colab": {
     "base_uri": "https://localhost:8080/",
     "height": 195
    },
    "id": "DhiC3OuaY4W5",
    "outputId": "8fa9b43d-15bd-4a61-b678-ce3543abd678"
   },
   "outputs": [
    {
     "data": {
      "text/html": [
       "<div>\n",
       "<style scoped>\n",
       "    .dataframe tbody tr th:only-of-type {\n",
       "        vertical-align: middle;\n",
       "    }\n",
       "\n",
       "    .dataframe tbody tr th {\n",
       "        vertical-align: top;\n",
       "    }\n",
       "\n",
       "    .dataframe thead th {\n",
       "        text-align: right;\n",
       "    }\n",
       "</style>\n",
       "<table border=\"1\" class=\"dataframe\">\n",
       "  <thead>\n",
       "    <tr style=\"text-align: right;\">\n",
       "      <th></th>\n",
       "      <th>symbol</th>\n",
       "      <th>date</th>\n",
       "      <th>close</th>\n",
       "      <th>high</th>\n",
       "      <th>low</th>\n",
       "      <th>open</th>\n",
       "      <th>volume</th>\n",
       "      <th>adjClose</th>\n",
       "      <th>adjHigh</th>\n",
       "      <th>adjLow</th>\n",
       "      <th>adjOpen</th>\n",
       "      <th>adjVolume</th>\n",
       "      <th>divCash</th>\n",
       "      <th>splitFactor</th>\n",
       "    </tr>\n",
       "  </thead>\n",
       "  <tbody>\n",
       "    <tr>\n",
       "      <th>1253</th>\n",
       "      <td>AAPL</td>\n",
       "      <td>2020-10-26 00:00:00+00:00</td>\n",
       "      <td>115.05</td>\n",
       "      <td>116.55</td>\n",
       "      <td>112.8800</td>\n",
       "      <td>114.01</td>\n",
       "      <td>111850657</td>\n",
       "      <td>115.05</td>\n",
       "      <td>116.55</td>\n",
       "      <td>112.8800</td>\n",
       "      <td>114.01</td>\n",
       "      <td>111850657</td>\n",
       "      <td>0.0</td>\n",
       "      <td>1.0</td>\n",
       "    </tr>\n",
       "    <tr>\n",
       "      <th>1254</th>\n",
       "      <td>AAPL</td>\n",
       "      <td>2020-10-27 00:00:00+00:00</td>\n",
       "      <td>116.60</td>\n",
       "      <td>117.28</td>\n",
       "      <td>114.5399</td>\n",
       "      <td>115.49</td>\n",
       "      <td>92276772</td>\n",
       "      <td>116.60</td>\n",
       "      <td>117.28</td>\n",
       "      <td>114.5399</td>\n",
       "      <td>115.49</td>\n",
       "      <td>92276772</td>\n",
       "      <td>0.0</td>\n",
       "      <td>1.0</td>\n",
       "    </tr>\n",
       "    <tr>\n",
       "      <th>1255</th>\n",
       "      <td>AAPL</td>\n",
       "      <td>2020-10-28 00:00:00+00:00</td>\n",
       "      <td>111.20</td>\n",
       "      <td>115.43</td>\n",
       "      <td>111.1000</td>\n",
       "      <td>115.05</td>\n",
       "      <td>143937823</td>\n",
       "      <td>111.20</td>\n",
       "      <td>115.43</td>\n",
       "      <td>111.1000</td>\n",
       "      <td>115.05</td>\n",
       "      <td>143937823</td>\n",
       "      <td>0.0</td>\n",
       "      <td>1.0</td>\n",
       "    </tr>\n",
       "    <tr>\n",
       "      <th>1256</th>\n",
       "      <td>AAPL</td>\n",
       "      <td>2020-10-29 00:00:00+00:00</td>\n",
       "      <td>115.32</td>\n",
       "      <td>116.93</td>\n",
       "      <td>112.2000</td>\n",
       "      <td>112.37</td>\n",
       "      <td>146129173</td>\n",
       "      <td>115.32</td>\n",
       "      <td>116.93</td>\n",
       "      <td>112.2000</td>\n",
       "      <td>112.37</td>\n",
       "      <td>146129173</td>\n",
       "      <td>0.0</td>\n",
       "      <td>1.0</td>\n",
       "    </tr>\n",
       "    <tr>\n",
       "      <th>1257</th>\n",
       "      <td>AAPL</td>\n",
       "      <td>2020-10-30 00:00:00+00:00</td>\n",
       "      <td>108.86</td>\n",
       "      <td>111.99</td>\n",
       "      <td>107.7200</td>\n",
       "      <td>111.06</td>\n",
       "      <td>190573476</td>\n",
       "      <td>108.86</td>\n",
       "      <td>111.99</td>\n",
       "      <td>107.7200</td>\n",
       "      <td>111.06</td>\n",
       "      <td>190573476</td>\n",
       "      <td>0.0</td>\n",
       "      <td>1.0</td>\n",
       "    </tr>\n",
       "  </tbody>\n",
       "</table>\n",
       "</div>"
      ],
      "text/plain": [
       "     symbol                       date   close  ...  adjVolume  divCash  splitFactor\n",
       "1253   AAPL  2020-10-26 00:00:00+00:00  115.05  ...  111850657      0.0          1.0\n",
       "1254   AAPL  2020-10-27 00:00:00+00:00  116.60  ...   92276772      0.0          1.0\n",
       "1255   AAPL  2020-10-28 00:00:00+00:00  111.20  ...  143937823      0.0          1.0\n",
       "1256   AAPL  2020-10-29 00:00:00+00:00  115.32  ...  146129173      0.0          1.0\n",
       "1257   AAPL  2020-10-30 00:00:00+00:00  108.86  ...  190573476      0.0          1.0\n",
       "\n",
       "[5 rows x 14 columns]"
      ]
     },
     "execution_count": 8,
     "metadata": {
      "tags": []
     },
     "output_type": "execute_result"
    }
   ],
   "source": [
    "df.tail()"
   ]
  },
  {
   "cell_type": "markdown",
   "metadata": {
    "id": "sY1PvFrporfp"
   },
   "source": [
    "# remove the index value and take the indepentent variable"
   ]
  },
  {
   "cell_type": "code",
   "execution_count": null,
   "metadata": {
    "id": "E23N4zKuY_pI"
   },
   "outputs": [],
   "source": [
    "df1=df.reset_index()['close']"
   ]
  },
  {
   "cell_type": "code",
   "execution_count": null,
   "metadata": {
    "colab": {
     "base_uri": "https://localhost:8080/"
    },
    "id": "dt-qckmmZGzW",
    "outputId": "5e57e37b-4af1-447e-f342-382066f0c8a0"
   },
   "outputs": [
    {
     "data": {
      "text/plain": [
       "0       122.57\n",
       "1       122.00\n",
       "2       120.92\n",
       "3       121.06\n",
       "4       120.57\n",
       "         ...  \n",
       "1253    115.05\n",
       "1254    116.60\n",
       "1255    111.20\n",
       "1256    115.32\n",
       "1257    108.86\n",
       "Name: close, Length: 1258, dtype: float64"
      ]
     },
     "execution_count": 10,
     "metadata": {
      "tags": []
     },
     "output_type": "execute_result"
    }
   ],
   "source": [
    "df1"
   ]
  },
  {
   "cell_type": "code",
   "execution_count": null,
   "metadata": {
    "id": "czpl0UrnZK6Y"
   },
   "outputs": [],
   "source": [
    "import matplotlib.pyplot as plt\n"
   ]
  },
  {
   "cell_type": "markdown",
   "metadata": {
    "id": "z52lyz-tpQTL"
   },
   "source": [
    "# for LSTM we have to make the values small for good results as the lstm model is more sensitive so we will be using minmaxscalar"
   ]
  },
  {
   "cell_type": "code",
   "execution_count": null,
   "metadata": {
    "id": "DMDVlNK-Z34W"
   },
   "outputs": [],
   "source": [
    "import numpy as np\n",
    "from sklearn.preprocessing import MinMaxScaler\n",
    "scaler=MinMaxScaler(feature_range=(0,1))\n",
    "df1=scaler.fit_transform(np.array(df1).reshape(-1,1))"
   ]
  },
  {
   "cell_type": "code",
   "execution_count": null,
   "metadata": {
    "colab": {
     "base_uri": "https://localhost:8080/"
    },
    "id": "UAOObCaPakNG",
    "outputId": "ccd7c044-adc1-40d0-fe62-cd7d85495a50"
   },
   "outputs": [
    {
     "data": {
      "text/plain": [
       "array([[0.07752255],\n",
       "       [0.07615153],\n",
       "       [0.07355382],\n",
       "       ...,\n",
       "       [0.05017438],\n",
       "       [0.06008419],\n",
       "       [0.044546  ]])"
      ]
     },
     "execution_count": 14,
     "metadata": {
      "tags": []
     },
     "output_type": "execute_result"
    }
   ],
   "source": [
    "df1"
   ]
  },
  {
   "cell_type": "markdown",
   "metadata": {
    "id": "S0iIXlHkpi0M"
   },
   "source": [
    "# as this dataset is a time series data and each of the values is dependent on the pervious values so we cannot randomly split the data using normal train_test_split"
   ]
  },
  {
   "cell_type": "code",
   "execution_count": null,
   "metadata": {
    "id": "keDq7sCxaxjp"
   },
   "outputs": [],
   "source": [
    "training_size=int(len(df1)*0.65)\n",
    "test_size=len(df1)-training_size\n",
    "train_data,test_data=df1[0:training_size,:],df1[training_size:len(df1),:1]"
   ]
  },
  {
   "cell_type": "code",
   "execution_count": null,
   "metadata": {
    "colab": {
     "base_uri": "https://localhost:8080/"
    },
    "id": "HzpNlmkKbZdc",
    "outputId": "f20068c3-6bf9-4666-a4b3-e7bfa54ef361"
   },
   "outputs": [
    {
     "data": {
      "text/plain": [
       "(817, 441)"
      ]
     },
     "execution_count": 17,
     "metadata": {
      "tags": []
     },
     "output_type": "execute_result"
    }
   ],
   "source": [
    "training_size,test_size"
   ]
  },
  {
   "cell_type": "code",
   "execution_count": null,
   "metadata": {
    "colab": {
     "base_uri": "https://localhost:8080/"
    },
    "id": "s4PgAv_nbpRU",
    "outputId": "ab6c56b3-5e0e-42bf-e7a7-38ba679175ba"
   },
   "outputs": [],
   "source": [
    "# train_data"
   ]
  },
  {
   "cell_type": "markdown",
   "metadata": {
    "id": "0RJLUAZFp7Gf"
   },
   "source": [
    "# now we have to convert the array values into matrix and most importantly the values of i will be starting from 0,1,2,3....99 as we have used 100 as we have mentioned the timestep 100\n",
    "example if there is 1 2 3 4 ouput 5 this value 5 is dependent on the other 4 values on thee time  series data ...now as we give time stamp as 100 it we check the value before predicting the output 100 values before."
   ]
  },
  {
   "cell_type": "code",
   "execution_count": null,
   "metadata": {
    "id": "wIAxuu8_bu-S"
   },
   "outputs": [],
   "source": [
    "import numpy\n",
    "def create_dataset(dataset, time_step=1):\n",
    "\tdataX, dataY = [], []\n",
    "\tfor i in range(len(dataset)-time_step-1):\n",
    "\t\ta = dataset[i:(i+time_step), 0]   \n",
    "\t\tdataX.append(a)\n",
    "\t\tdataY.append(dataset[i + time_step, 0])\n",
    "\treturn numpy.array(dataX), numpy.array(dataY)"
   ]
  },
  {
   "cell_type": "code",
   "execution_count": null,
   "metadata": {
    "id": "_VTIaUVQb2wn"
   },
   "outputs": [],
   "source": [
    "time_step = 100\n",
    "X_train, y_train = create_dataset(train_data, time_step)\n",
    "X_test, ytest = create_dataset(test_data, time_step)"
   ]
  },
  {
   "cell_type": "code",
   "execution_count": null,
   "metadata": {
    "colab": {
     "base_uri": "https://localhost:8080/"
    },
    "id": "NjfFIY4LcN6m",
    "outputId": "bd1d7df0-d891-41d8-8136-4402f153fbf9"
   },
   "outputs": [
    {
     "name": "stdout",
     "output_type": "stream",
     "text": [
      "(716, 100)\n",
      "(716,)\n"
     ]
    },
    {
     "data": {
      "text/plain": [
       "(None, None)"
      ]
     },
     "execution_count": 21,
     "metadata": {
      "tags": []
     },
     "output_type": "execute_result"
    }
   ],
   "source": [
    "print(X_train.shape), print(y_train.shape)"
   ]
  },
  {
   "cell_type": "code",
   "execution_count": null,
   "metadata": {
    "colab": {
     "base_uri": "https://localhost:8080/"
    },
    "id": "QplBlmH1cWbP",
    "outputId": "693e7a39-682a-43e7-ccf1-9324b78575b9"
   },
   "outputs": [
    {
     "name": "stdout",
     "output_type": "stream",
     "text": [
      "(340, 100)\n",
      "(340,)\n"
     ]
    },
    {
     "data": {
      "text/plain": [
       "(None, None)"
      ]
     },
     "execution_count": 22,
     "metadata": {
      "tags": []
     },
     "output_type": "execute_result"
    }
   ],
   "source": [
    "print(X_test.shape), print(ytest.shape)"
   ]
  },
  {
   "cell_type": "markdown",
   "metadata": {
    "id": "dtD7ECTctbCq"
   },
   "source": [
    "# before implementing any LSTM model we have to convert the data dimensions into a 3d dimension"
   ]
  },
  {
   "cell_type": "code",
   "execution_count": null,
   "metadata": {
    "id": "Qe6TeDtbcaAa"
   },
   "outputs": [],
   "source": [
    "X_train =X_train.reshape(X_train.shape[0],X_train.shape[1] , 1)\n",
    "X_test = X_test.reshape(X_test.shape[0],X_test.shape[1] , 1)"
   ]
  },
  {
   "cell_type": "markdown",
   "metadata": {
    "id": "_IzpZRlcdmZy"
   },
   "source": [
    "# create a LSTM layer"
   ]
  },
  {
   "cell_type": "code",
   "execution_count": null,
   "metadata": {
    "id": "3HanMeLadArq"
   },
   "outputs": [],
   "source": [
    "from tensorflow.keras.models import Sequential\n",
    "from tensorflow.keras.layers import Dense\n",
    "from tensorflow.keras.layers import LSTM"
   ]
  },
  {
   "cell_type": "code",
   "execution_count": null,
   "metadata": {
    "id": "wkdmxxczdkkA"
   },
   "outputs": [],
   "source": [
    "model=Sequential()\n",
    "model.add(LSTM(50,return_sequences=True,input_shape=(100,1)))\n",
    "model.add(LSTM(50,return_sequences=True))\n",
    "model.add(LSTM(50))\n",
    "model.add(Dense(1))\n",
    "model.compile(loss='mean_squared_error',optimizer='adam')\n"
   ]
  },
  {
   "cell_type": "code",
   "execution_count": null,
   "metadata": {
    "colab": {
     "base_uri": "https://localhost:8080/"
    },
    "id": "b9IHPiGBege0",
    "outputId": "0b18a900-78b7-4fb5-8ea0-e79b3898dbf8"
   },
   "outputs": [
    {
     "name": "stdout",
     "output_type": "stream",
     "text": [
      "Model: \"sequential\"\n",
      "_________________________________________________________________\n",
      "Layer (type)                 Output Shape              Param #   \n",
      "=================================================================\n",
      "lstm (LSTM)                  (None, 100, 50)           10400     \n",
      "_________________________________________________________________\n",
      "lstm_1 (LSTM)                (None, 100, 50)           20200     \n",
      "_________________________________________________________________\n",
      "lstm_2 (LSTM)                (None, 50)                20200     \n",
      "_________________________________________________________________\n",
      "dense (Dense)                (None, 1)                 51        \n",
      "=================================================================\n",
      "Total params: 50,851\n",
      "Trainable params: 50,851\n",
      "Non-trainable params: 0\n",
      "_________________________________________________________________\n"
     ]
    }
   ],
   "source": [
    "model.summary()"
   ]
  },
  {
   "cell_type": "code",
   "execution_count": null,
   "metadata": {
    "colab": {
     "base_uri": "https://localhost:8080/"
    },
    "id": "rRYO0T5tem-O",
    "outputId": "0d07448e-1a9c-46b1-a225-0970048daa6b"
   },
   "outputs": [
    {
     "name": "stdout",
     "output_type": "stream",
     "text": [
      "Epoch 1/100\n",
      "12/12 [==============================] - 3s 268ms/step - loss: 0.0076 - val_loss: 0.0556\n",
      "Epoch 2/100\n",
      "12/12 [==============================] - 2s 187ms/step - loss: 0.0017 - val_loss: 0.0216\n",
      "Epoch 3/100\n",
      "12/12 [==============================] - 2s 180ms/step - loss: 5.2908e-04 - val_loss: 0.0223\n",
      "Epoch 4/100\n",
      "12/12 [==============================] - 2s 185ms/step - loss: 4.1503e-04 - val_loss: 0.0204\n",
      "Epoch 5/100\n",
      "12/12 [==============================] - 2s 179ms/step - loss: 3.6073e-04 - val_loss: 0.0201\n",
      "Epoch 6/100\n",
      "12/12 [==============================] - 2s 181ms/step - loss: 3.3616e-04 - val_loss: 0.0195\n",
      "Epoch 7/100\n",
      "12/12 [==============================] - 2s 182ms/step - loss: 3.2638e-04 - val_loss: 0.0189\n",
      "Epoch 8/100\n",
      "12/12 [==============================] - 2s 188ms/step - loss: 3.1668e-04 - val_loss: 0.0184\n",
      "Epoch 9/100\n",
      "12/12 [==============================] - 2s 191ms/step - loss: 3.1923e-04 - val_loss: 0.0180\n",
      "Epoch 10/100\n",
      "12/12 [==============================] - 2s 186ms/step - loss: 2.9374e-04 - val_loss: 0.0175\n",
      "Epoch 11/100\n",
      "12/12 [==============================] - 2s 189ms/step - loss: 2.9229e-04 - val_loss: 0.0169\n",
      "Epoch 12/100\n",
      "12/12 [==============================] - 2s 183ms/step - loss: 2.7050e-04 - val_loss: 0.0164\n",
      "Epoch 13/100\n",
      "12/12 [==============================] - 2s 182ms/step - loss: 2.7191e-04 - val_loss: 0.0163\n",
      "Epoch 14/100\n",
      "12/12 [==============================] - 2s 185ms/step - loss: 2.4898e-04 - val_loss: 0.0163\n",
      "Epoch 15/100\n",
      "12/12 [==============================] - 2s 185ms/step - loss: 2.5707e-04 - val_loss: 0.0155\n",
      "Epoch 16/100\n",
      "12/12 [==============================] - 2s 189ms/step - loss: 2.3204e-04 - val_loss: 0.0149\n",
      "Epoch 17/100\n",
      "12/12 [==============================] - 2s 191ms/step - loss: 2.2142e-04 - val_loss: 0.0156\n",
      "Epoch 18/100\n",
      "12/12 [==============================] - 2s 192ms/step - loss: 2.3310e-04 - val_loss: 0.0146\n",
      "Epoch 19/100\n",
      "12/12 [==============================] - 2s 190ms/step - loss: 2.5802e-04 - val_loss: 0.0147\n",
      "Epoch 20/100\n",
      "12/12 [==============================] - 2s 192ms/step - loss: 1.9721e-04 - val_loss: 0.0146\n",
      "Epoch 21/100\n",
      "12/12 [==============================] - 2s 190ms/step - loss: 1.9748e-04 - val_loss: 0.0155\n",
      "Epoch 22/100\n",
      "12/12 [==============================] - 2s 189ms/step - loss: 2.1751e-04 - val_loss: 0.0144\n",
      "Epoch 23/100\n",
      "12/12 [==============================] - 2s 191ms/step - loss: 2.2415e-04 - val_loss: 0.0150\n",
      "Epoch 24/100\n",
      "12/12 [==============================] - 2s 188ms/step - loss: 2.1517e-04 - val_loss: 0.0142\n",
      "Epoch 25/100\n",
      "12/12 [==============================] - 2s 185ms/step - loss: 1.8661e-04 - val_loss: 0.0142\n",
      "Epoch 26/100\n",
      "12/12 [==============================] - 2s 189ms/step - loss: 1.8111e-04 - val_loss: 0.0142\n",
      "Epoch 27/100\n",
      "12/12 [==============================] - 2s 184ms/step - loss: 1.8090e-04 - val_loss: 0.0141\n",
      "Epoch 28/100\n",
      "12/12 [==============================] - 2s 189ms/step - loss: 2.1390e-04 - val_loss: 0.0142\n",
      "Epoch 29/100\n",
      "12/12 [==============================] - 2s 194ms/step - loss: 1.8979e-04 - val_loss: 0.0139\n",
      "Epoch 30/100\n",
      "12/12 [==============================] - 2s 193ms/step - loss: 1.9061e-04 - val_loss: 0.0139\n",
      "Epoch 31/100\n",
      "12/12 [==============================] - 2s 192ms/step - loss: 1.8667e-04 - val_loss: 0.0141\n",
      "Epoch 32/100\n",
      "12/12 [==============================] - 2s 197ms/step - loss: 1.8434e-04 - val_loss: 0.0137\n",
      "Epoch 33/100\n",
      "12/12 [==============================] - 2s 192ms/step - loss: 1.8112e-04 - val_loss: 0.0144\n",
      "Epoch 34/100\n",
      "12/12 [==============================] - 2s 193ms/step - loss: 1.9797e-04 - val_loss: 0.0140\n",
      "Epoch 35/100\n",
      "12/12 [==============================] - 2s 198ms/step - loss: 2.1241e-04 - val_loss: 0.0143\n",
      "Epoch 36/100\n",
      "12/12 [==============================] - 2s 193ms/step - loss: 1.9306e-04 - val_loss: 0.0134\n",
      "Epoch 37/100\n",
      "12/12 [==============================] - 2s 202ms/step - loss: 1.6667e-04 - val_loss: 0.0135\n",
      "Epoch 38/100\n",
      "12/12 [==============================] - 2s 201ms/step - loss: 1.7417e-04 - val_loss: 0.0137\n",
      "Epoch 39/100\n",
      "12/12 [==============================] - 2s 195ms/step - loss: 1.8267e-04 - val_loss: 0.0134\n",
      "Epoch 40/100\n",
      "12/12 [==============================] - 2s 193ms/step - loss: 1.7782e-04 - val_loss: 0.0133\n",
      "Epoch 41/100\n",
      "12/12 [==============================] - 2s 192ms/step - loss: 1.5796e-04 - val_loss: 0.0132\n",
      "Epoch 42/100\n",
      "12/12 [==============================] - 2s 191ms/step - loss: 1.5925e-04 - val_loss: 0.0130\n",
      "Epoch 43/100\n",
      "12/12 [==============================] - 2s 202ms/step - loss: 1.5596e-04 - val_loss: 0.0130\n",
      "Epoch 44/100\n",
      "12/12 [==============================] - 2s 199ms/step - loss: 1.6290e-04 - val_loss: 0.0130\n",
      "Epoch 45/100\n",
      "12/12 [==============================] - 2s 189ms/step - loss: 1.6338e-04 - val_loss: 0.0132\n",
      "Epoch 46/100\n",
      "12/12 [==============================] - 2s 189ms/step - loss: 1.5680e-04 - val_loss: 0.0131\n",
      "Epoch 47/100\n",
      "12/12 [==============================] - 2s 197ms/step - loss: 1.5383e-04 - val_loss: 0.0131\n",
      "Epoch 48/100\n",
      "12/12 [==============================] - 2s 197ms/step - loss: 1.8825e-04 - val_loss: 0.0129\n",
      "Epoch 49/100\n",
      "12/12 [==============================] - 2s 194ms/step - loss: 1.5247e-04 - val_loss: 0.0123\n",
      "Epoch 50/100\n",
      "12/12 [==============================] - 2s 193ms/step - loss: 1.5689e-04 - val_loss: 0.0123\n",
      "Epoch 51/100\n",
      "12/12 [==============================] - 2s 196ms/step - loss: 1.6508e-04 - val_loss: 0.0122\n",
      "Epoch 52/100\n",
      "12/12 [==============================] - 2s 198ms/step - loss: 1.4658e-04 - val_loss: 0.0123\n",
      "Epoch 53/100\n",
      "12/12 [==============================] - 2s 195ms/step - loss: 1.4296e-04 - val_loss: 0.0121\n",
      "Epoch 54/100\n",
      "12/12 [==============================] - 2s 199ms/step - loss: 1.5105e-04 - val_loss: 0.0120\n",
      "Epoch 55/100\n",
      "12/12 [==============================] - 2s 193ms/step - loss: 1.4106e-04 - val_loss: 0.0119\n",
      "Epoch 56/100\n",
      "12/12 [==============================] - 2s 202ms/step - loss: 1.5293e-04 - val_loss: 0.0118\n",
      "Epoch 57/100\n",
      "12/12 [==============================] - 2s 195ms/step - loss: 1.4079e-04 - val_loss: 0.0116\n",
      "Epoch 58/100\n",
      "12/12 [==============================] - 2s 192ms/step - loss: 1.4487e-04 - val_loss: 0.0113\n",
      "Epoch 59/100\n",
      "12/12 [==============================] - 2s 198ms/step - loss: 1.3598e-04 - val_loss: 0.0113\n",
      "Epoch 60/100\n",
      "12/12 [==============================] - 2s 199ms/step - loss: 1.4008e-04 - val_loss: 0.0112\n",
      "Epoch 61/100\n",
      "12/12 [==============================] - 2s 192ms/step - loss: 1.3767e-04 - val_loss: 0.0111\n",
      "Epoch 62/100\n",
      "12/12 [==============================] - 2s 194ms/step - loss: 1.5142e-04 - val_loss: 0.0108\n",
      "Epoch 63/100\n",
      "12/12 [==============================] - 2s 189ms/step - loss: 1.4846e-04 - val_loss: 0.0107\n",
      "Epoch 64/100\n",
      "12/12 [==============================] - 2s 190ms/step - loss: 1.4021e-04 - val_loss: 0.0105\n",
      "Epoch 65/100\n",
      "12/12 [==============================] - 2s 195ms/step - loss: 1.3423e-04 - val_loss: 0.0103\n",
      "Epoch 66/100\n",
      "12/12 [==============================] - 2s 197ms/step - loss: 1.2933e-04 - val_loss: 0.0102\n",
      "Epoch 67/100\n",
      "12/12 [==============================] - 2s 193ms/step - loss: 1.3183e-04 - val_loss: 0.0101\n",
      "Epoch 68/100\n",
      "12/12 [==============================] - 2s 187ms/step - loss: 1.2977e-04 - val_loss: 0.0098\n",
      "Epoch 69/100\n",
      "12/12 [==============================] - 2s 197ms/step - loss: 1.3854e-04 - val_loss: 0.0101\n",
      "Epoch 70/100\n",
      "12/12 [==============================] - 2s 188ms/step - loss: 1.4597e-04 - val_loss: 0.0096\n",
      "Epoch 71/100\n",
      "12/12 [==============================] - 2s 194ms/step - loss: 1.3776e-04 - val_loss: 0.0094\n",
      "Epoch 72/100\n",
      "12/12 [==============================] - 2s 194ms/step - loss: 1.2813e-04 - val_loss: 0.0093\n",
      "Epoch 73/100\n",
      "12/12 [==============================] - 2s 197ms/step - loss: 1.1799e-04 - val_loss: 0.0092\n",
      "Epoch 74/100\n",
      "12/12 [==============================] - 2s 194ms/step - loss: 1.2787e-04 - val_loss: 0.0091\n",
      "Epoch 75/100\n",
      "12/12 [==============================] - 2s 196ms/step - loss: 1.2058e-04 - val_loss: 0.0090\n",
      "Epoch 76/100\n",
      "12/12 [==============================] - 2s 197ms/step - loss: 1.2346e-04 - val_loss: 0.0091\n",
      "Epoch 77/100\n",
      "12/12 [==============================] - 2s 193ms/step - loss: 1.1504e-04 - val_loss: 0.0090\n",
      "Epoch 78/100\n",
      "12/12 [==============================] - 2s 196ms/step - loss: 1.2238e-04 - val_loss: 0.0087\n",
      "Epoch 79/100\n",
      "12/12 [==============================] - 2s 194ms/step - loss: 1.1865e-04 - val_loss: 0.0088\n",
      "Epoch 80/100\n",
      "12/12 [==============================] - 2s 198ms/step - loss: 1.2932e-04 - val_loss: 0.0084\n",
      "Epoch 81/100\n",
      "12/12 [==============================] - 2s 194ms/step - loss: 1.2775e-04 - val_loss: 0.0083\n",
      "Epoch 82/100\n",
      "12/12 [==============================] - 2s 189ms/step - loss: 1.2504e-04 - val_loss: 0.0087\n",
      "Epoch 83/100\n",
      "12/12 [==============================] - 2s 188ms/step - loss: 1.1870e-04 - val_loss: 0.0081\n",
      "Epoch 84/100\n",
      "12/12 [==============================] - 2s 188ms/step - loss: 1.1494e-04 - val_loss: 0.0085\n",
      "Epoch 85/100\n",
      "12/12 [==============================] - 2s 197ms/step - loss: 1.2804e-04 - val_loss: 0.0079\n",
      "Epoch 86/100\n",
      "12/12 [==============================] - 2s 195ms/step - loss: 1.1103e-04 - val_loss: 0.0079\n",
      "Epoch 87/100\n",
      "12/12 [==============================] - 2s 193ms/step - loss: 1.2379e-04 - val_loss: 0.0084\n",
      "Epoch 88/100\n",
      "12/12 [==============================] - 2s 194ms/step - loss: 1.2266e-04 - val_loss: 0.0081\n",
      "Epoch 89/100\n",
      "12/12 [==============================] - 2s 198ms/step - loss: 1.0948e-04 - val_loss: 0.0081\n",
      "Epoch 90/100\n",
      "12/12 [==============================] - 2s 200ms/step - loss: 1.1367e-04 - val_loss: 0.0075\n",
      "Epoch 91/100\n",
      "12/12 [==============================] - 2s 194ms/step - loss: 1.3153e-04 - val_loss: 0.0080\n",
      "Epoch 92/100\n",
      "12/12 [==============================] - 2s 197ms/step - loss: 1.3381e-04 - val_loss: 0.0075\n",
      "Epoch 93/100\n",
      "12/12 [==============================] - 2s 192ms/step - loss: 1.0423e-04 - val_loss: 0.0078\n",
      "Epoch 94/100\n",
      "12/12 [==============================] - 2s 188ms/step - loss: 1.0834e-04 - val_loss: 0.0074\n",
      "Epoch 95/100\n",
      "12/12 [==============================] - 2s 205ms/step - loss: 1.0313e-04 - val_loss: 0.0072\n",
      "Epoch 96/100\n",
      "12/12 [==============================] - 2s 199ms/step - loss: 1.0001e-04 - val_loss: 0.0074\n",
      "Epoch 97/100\n",
      "12/12 [==============================] - 2s 198ms/step - loss: 1.0062e-04 - val_loss: 0.0087\n",
      "Epoch 98/100\n",
      "12/12 [==============================] - 2s 194ms/step - loss: 1.3952e-04 - val_loss: 0.0070\n",
      "Epoch 99/100\n",
      "12/12 [==============================] - 2s 194ms/step - loss: 1.2207e-04 - val_loss: 0.0070\n",
      "Epoch 100/100\n",
      "12/12 [==============================] - 2s 194ms/step - loss: 1.0351e-04 - val_loss: 0.0069\n"
     ]
    },
    {
     "data": {
      "text/plain": [
       "<tensorflow.python.keras.callbacks.History at 0x7fd77882ef28>"
      ]
     },
     "execution_count": 27,
     "metadata": {
      "tags": []
     },
     "output_type": "execute_result"
    }
   ],
   "source": [
    "model.fit(X_train,y_train,validation_data=(X_test,ytest),epochs=100,batch_size=64,verbose=1)"
   ]
  },
  {
   "cell_type": "code",
   "execution_count": null,
   "metadata": {
    "id": "zuNxMyDEgKnq"
   },
   "outputs": [],
   "source": [
    "import tensorflow as tf"
   ]
  },
  {
   "cell_type": "markdown",
   "metadata": {
    "id": "HdfFY0BtujDJ"
   },
   "source": [
    "# now we have to predict the model"
   ]
  },
  {
   "cell_type": "code",
   "execution_count": null,
   "metadata": {
    "id": "gnXpXdkigPXk"
   },
   "outputs": [],
   "source": [
    "train_predict=model.predict(X_train)\n",
    "test_predict=model.predict(X_test)"
   ]
  },
  {
   "cell_type": "markdown",
   "metadata": {
    "id": "G2qhyd8Pun2X"
   },
   "source": [
    "# as we have converted into small values using minmaxscaler we are converting back into the original values"
   ]
  },
  {
   "cell_type": "code",
   "execution_count": null,
   "metadata": {
    "id": "tMQKWXRagWyH"
   },
   "outputs": [],
   "source": [
    "train_predict=scaler.inverse_transform(train_predict)\n",
    "test_predict=scaler.inverse_transform(test_predict)"
   ]
  },
  {
   "cell_type": "markdown",
   "metadata": {
    "id": "uii_Cnjzu8Ca"
   },
   "source": [
    "# to check wheather our LSTM model have done good we have the check the mean square error value"
   ]
  },
  {
   "cell_type": "code",
   "execution_count": null,
   "metadata": {
    "colab": {
     "base_uri": "https://localhost:8080/"
    },
    "id": "qQsZTFsggbUV",
    "outputId": "48c42da9-b7d5-4a43-9345-5f7e84394d42"
   },
   "outputs": [
    {
     "data": {
      "text/plain": [
       "156.25532480710353"
      ]
     },
     "execution_count": 31,
     "metadata": {
      "tags": []
     },
     "output_type": "execute_result"
    }
   ],
   "source": [
    "import math\n",
    "from sklearn.metrics import mean_squared_error\n",
    "math.sqrt(mean_squared_error(y_train,train_predict))"
   ]
  },
  {
   "cell_type": "code",
   "execution_count": null,
   "metadata": {
    "colab": {
     "base_uri": "https://localhost:8080/"
    },
    "id": "R34iFm8kgiKi",
    "outputId": "4467765d-645d-49d5-cb0a-dfc344ae3dfb"
   },
   "outputs": [
    {
     "data": {
      "text/plain": [
       "276.8269867575707"
      ]
     },
     "execution_count": 32,
     "metadata": {
      "tags": []
     },
     "output_type": "execute_result"
    }
   ],
   "source": [
    "math.sqrt(mean_squared_error(ytest,test_predict))"
   ]
  },
  {
   "cell_type": "markdown",
   "metadata": {
    "id": "1MmnjYxXv3cK"
   },
   "source": [
    "# for plotting train predictions"
   ]
  },
  {
   "cell_type": "code",
   "execution_count": null,
   "metadata": {
    "id": "zyQMj7R4glXL"
   },
   "outputs": [],
   "source": [
    "look_back=100\n",
    "trainPredictPlot = numpy.empty_like(df1)\n",
    "trainPredictPlot[:, :] = np.nan\n",
    "trainPredictPlot[look_back:len(train_predict)+look_back, :] = train_predict"
   ]
  },
  {
   "cell_type": "markdown",
   "metadata": {
    "id": "aUTMF7RQv-Mb"
   },
   "source": [
    "# for plotting test predictions"
   ]
  },
  {
   "cell_type": "code",
   "execution_count": null,
   "metadata": {
    "id": "sfQ3NaPkg9Er"
   },
   "outputs": [],
   "source": [
    "testPredictPlot = numpy.empty_like(df1)\n",
    "testPredictPlot[:, :] = numpy.nan\n",
    "testPredictPlot[len(train_predict)+(look_back*2)+1:len(df1)-1, :] = test_predict"
   ]
  },
  {
   "cell_type": "markdown",
   "metadata": {
    "id": "xXAwH8BCwC4S"
   },
   "source": [
    "# plotting "
   ]
  },
  {
   "cell_type": "code",
   "execution_count": null,
   "metadata": {
    "colab": {
     "base_uri": "https://localhost:8080/",
     "height": 265
    },
    "id": "NRPeMneXhBB5",
    "outputId": "1262cb80-c114-4630-dc17-b5c09b468553"
   },
   "outputs": [
    {
     "data": {
      "image/png": "[encoded data removed]",
      "text/plain": [
       "<Figure size 432x288 with 1 Axes>"
      ]
     },
     "metadata": {
      "needs_background": "light",
      "tags": []
     },
     "output_type": "display_data"
    }
   ],
   "source": [
    "plt.plot(scaler.inverse_transform(df1))\n",
    "plt.plot(trainPredictPlot)\n",
    "plt.plot(testPredictPlot)\n",
    "plt.show()"
   ]
  },
  {
   "cell_type": "code",
   "execution_count": null,
   "metadata": {
    "colab": {
     "base_uri": "https://localhost:8080/"
    },
    "id": "i8TA1SLVlAGi",
    "outputId": "d87a5096-a906-4472-f75f-86e4243e117f"
   },
   "outputs": [
    {
     "data": {
      "text/plain": [
       "441"
      ]
     },
     "execution_count": 37,
     "metadata": {
      "tags": []
     },
     "output_type": "execute_result"
    }
   ],
   "source": [
    "len(test_data)"
   ]
  },
  {
   "cell_type": "code",
   "execution_count": null,
   "metadata": {
    "colab": {
     "base_uri": "https://localhost:8080/"
    },
    "id": "HkDSzF22w_8I",
    "outputId": "ba0e2503-8442-4206-8cf6-80ad0a8bde0b"
   },
   "outputs": [
    {
     "data": {
      "text/plain": [
       "(1, 100)"
      ]
     },
     "execution_count": 38,
     "metadata": {
      "tags": []
     },
     "output_type": "execute_result"
    }
   ],
   "source": [
    "x_input=test_data[341:].reshape(1,-1)\n",
    "x_input.shape"
   ]
  },
  {
   "cell_type": "code",
   "execution_count": null,
   "metadata": {
    "id": "8Dj5WcFoxC2Y"
   },
   "outputs": [],
   "source": [
    "temp_input=list(x_input)\n",
    "temp_input=temp_input[0].tolist()"
   ]
  },
  {
   "cell_type": "code",
   "execution_count": null,
   "metadata": {
    "colab": {
     "base_uri": "https://localhost:8080/"
    },
    "id": "Cd2e462axKqA",
    "outputId": "dc51f1b7-311c-4f3b-bc92-18b41c889fa0"
   },
   "outputs": [
    {
     "data": {
      "text/plain": [
       "[0.5906434155141311,\n",
       " 0.5976187612748045,\n",
       " 0.607696933253157,\n",
       " 0.6295610342754059,\n",
       " 0.6283824413710162,\n",
       " 0.628719182200842,\n",
       " 0.6238845460012028,\n",
       " 0.6458929645219482,\n",
       " 0.6643174984966926,\n",
       " 0.6487552615754661,\n",
       " 0.6602525556223691,\n",
       " 0.6332892363199039,\n",
       " 0.6528923631990378,\n",
       " 0.6601563439567049,\n",
       " 0.6584966927239928,\n",
       " 0.6584966927239928,\n",
       " 0.6819242333132893,\n",
       " 0.6791340950090199,\n",
       " 0.7000120264582081,\n",
       " 0.7039567047504509,\n",
       " 0.7055682501503309,\n",
       " 0.7013108839446784,\n",
       " 0.7165123271196634,\n",
       " 0.7229344558027659,\n",
       " 0.7113650030066145,\n",
       " 0.7094888755261575,\n",
       " 0.7290198436560433,\n",
       " 0.7159591100420926,\n",
       " 0.7185808779314491,\n",
       " 0.6759831629585087,\n",
       " 0.673770294648226,\n",
       " 0.6948887552615755,\n",
       " 0.6799037883343355,\n",
       " 0.6971016235718581,\n",
       " 0.7081659651232712,\n",
       " 0.8050511124473845,\n",
       " 0.830811785929044,\n",
       " 0.8378111846061336,\n",
       " 0.841635598316296,\n",
       " 0.8785808779314492,\n",
       " 0.8517378232110644,\n",
       " 0.8672760072158752,\n",
       " 0.8350210463018641,\n",
       " 0.8699939867708961,\n",
       " 0.8892363199037885,\n",
       " 0.8882501503307276,\n",
       " 0.8853638003607938,\n",
       " 0.89455201443175,\n",
       " 0.8959470835838845,\n",
       " 0.9206494287432352,\n",
       " 0.9792904389657247,\n",
       " 0.9936019242333134,\n",
       " 0.9836680697534577,\n",
       " 1.0,\n",
       " 0.9854479855682503,\n",
       " 0.983499699338545,\n",
       " 0.09308478653036678,\n",
       " 0.10544798556825014,\n",
       " 0.09876127480457003,\n",
       " 0.07345760673481655,\n",
       " 0.07365003006614551,\n",
       " 0.05407095610342749,\n",
       " 0.06489476849067943,\n",
       " 0.055682501503307225,\n",
       " 0.052098616957306054,\n",
       " 0.0601683704149128,\n",
       " 0.06061334936861096,\n",
       " 0.05241130487071555,\n",
       " 0.04810583283223091,\n",
       " 0.03968731208659049,\n",
       " 0.04748045700541187,\n",
       " 0.05164161154539987,\n",
       " 0.04036079374624174,\n",
       " 0.04300661455201443,\n",
       " 0.05277209861695731,\n",
       " 0.05921828021647624,\n",
       " 0.05712567648827421,\n",
       " 0.06126277811184605,\n",
       " 0.06361996392062536,\n",
       " 0.05455201443174984,\n",
       " 0.062922429344558,\n",
       " 0.05488875526157544,\n",
       " 0.059506915213469624,\n",
       " 0.059242333132892344,\n",
       " 0.06405291641611544,\n",
       " 0.08192423331328924,\n",
       " 0.07398677089597111,\n",
       " 0.07420324714371618,\n",
       " 0.07304870715574258,\n",
       " 0.06898376428141911,\n",
       " 0.061671677690920024,\n",
       " 0.06535177390258567,\n",
       " 0.06381238725195432,\n",
       " 0.06111846061334936,\n",
       " 0.059410703547805144,\n",
       " 0.05943475646422125,\n",
       " 0.06316295850871917,\n",
       " 0.05017438364401683,\n",
       " 0.06008418520745634,\n",
       " 0.04454600120264579]"
      ]
     },
     "execution_count": 40,
     "metadata": {
      "tags": []
     },
     "output_type": "execute_result"
    }
   ],
   "source": [
    "temp_input"
   ]
  },
  {
   "cell_type": "markdown",
   "metadata": {
    "id": "fMXmfYcqxTbm"
   },
   "source": [
    "##predicting for next 10 days"
   ]
  },
  {
   "cell_type": "code",
   "execution_count": null,
   "metadata": {
    "colab": {
     "base_uri": "https://localhost:8080/"
    },
    "id": "D06Kog20xOZn",
    "outputId": "a109e82c-79a7-4d32-bac5-28e2d6750c30"
   },
   "outputs": [
    {
     "name": "stdout",
     "output_type": "stream",
     "text": [
      "[0.05345364]\n",
      "101\n",
      "1 day input [0.59761876 0.60769693 0.62956103 0.62838244 0.62871918 0.62388455\n",
      " 0.64589296 0.6643175  0.64875526 0.66025256 0.63328924 0.65289236\n",
      " 0.66015634 0.65849669 0.65849669 0.68192423 0.6791341  0.70001203\n",
      " 0.7039567  0.70556825 0.70131088 0.71651233 0.72293446 0.711365\n",
      " 0.70948888 0.72901984 0.71595911 0.71858088 0.67598316 0.67377029\n",
      " 0.69488876 0.67990379 0.69710162 0.70816597 0.80505111 0.83081179\n",
      " 0.83781118 0.8416356  0.87858088 0.85173782 0.86727601 0.83502105\n",
      " 0.86999399 0.88923632 0.88825015 0.8853638  0.89455201 0.89594708\n",
      " 0.92064943 0.97929044 0.99360192 0.98366807 1.         0.98544799\n",
      " 0.9834997  0.09308479 0.10544799 0.09876127 0.07345761 0.07365003\n",
      " 0.05407096 0.06489477 0.0556825  0.05209862 0.06016837 0.06061335\n",
      " 0.0524113  0.04810583 0.03968731 0.04748046 0.05164161 0.04036079\n",
      " 0.04300661 0.0527721  0.05921828 0.05712568 0.06126278 0.06361996\n",
      " 0.05455201 0.06292243 0.05488876 0.05950692 0.05924233 0.06405292\n",
      " 0.08192423 0.07398677 0.07420325 0.07304871 0.06898376 0.06167168\n",
      " 0.06535177 0.06381239 0.06111846 0.0594107  0.05943476 0.06316296\n",
      " 0.05017438 0.06008419 0.044546   0.05345364]\n",
      "1 day output [[0.05219891]]\n",
      "2 day input [0.60769693 0.62956103 0.62838244 0.62871918 0.62388455 0.64589296\n",
      " 0.6643175  0.64875526 0.66025256 0.63328924 0.65289236 0.66015634\n",
      " 0.65849669 0.65849669 0.68192423 0.6791341  0.70001203 0.7039567\n",
      " 0.70556825 0.70131088 0.71651233 0.72293446 0.711365   0.70948888\n",
      " 0.72901984 0.71595911 0.71858088 0.67598316 0.67377029 0.69488876\n",
      " 0.67990379 0.69710162 0.70816597 0.80505111 0.83081179 0.83781118\n",
      " 0.8416356  0.87858088 0.85173782 0.86727601 0.83502105 0.86999399\n",
      " 0.88923632 0.88825015 0.8853638  0.89455201 0.89594708 0.92064943\n",
      " 0.97929044 0.99360192 0.98366807 1.         0.98544799 0.9834997\n",
      " 0.09308479 0.10544799 0.09876127 0.07345761 0.07365003 0.05407096\n",
      " 0.06489477 0.0556825  0.05209862 0.06016837 0.06061335 0.0524113\n",
      " 0.04810583 0.03968731 0.04748046 0.05164161 0.04036079 0.04300661\n",
      " 0.0527721  0.05921828 0.05712568 0.06126278 0.06361996 0.05455201\n",
      " 0.06292243 0.05488876 0.05950692 0.05924233 0.06405292 0.08192423\n",
      " 0.07398677 0.07420325 0.07304871 0.06898376 0.06167168 0.06535177\n",
      " 0.06381239 0.06111846 0.0594107  0.05943476 0.06316296 0.05017438\n",
      " 0.06008419 0.044546   0.05345364 0.05219891]\n",
      "2 day output [[0.05118345]]\n",
      "3 day input [0.62956103 0.62838244 0.62871918 0.62388455 0.64589296 0.6643175\n",
      " 0.64875526 0.66025256 0.63328924 0.65289236 0.66015634 0.65849669\n",
      " 0.65849669 0.68192423 0.6791341  0.70001203 0.7039567  0.70556825\n",
      " 0.70131088 0.71651233 0.72293446 0.711365   0.70948888 0.72901984\n",
      " 0.71595911 0.71858088 0.67598316 0.67377029 0.69488876 0.67990379\n",
      " 0.69710162 0.70816597 0.80505111 0.83081179 0.83781118 0.8416356\n",
      " 0.87858088 0.85173782 0.86727601 0.83502105 0.86999399 0.88923632\n",
      " 0.88825015 0.8853638  0.89455201 0.89594708 0.92064943 0.97929044\n",
      " 0.99360192 0.98366807 1.         0.98544799 0.9834997  0.09308479\n",
      " 0.10544799 0.09876127 0.07345761 0.07365003 0.05407096 0.06489477\n",
      " 0.0556825  0.05209862 0.06016837 0.06061335 0.0524113  0.04810583\n",
      " 0.03968731 0.04748046 0.05164161 0.04036079 0.04300661 0.0527721\n",
      " 0.05921828 0.05712568 0.06126278 0.06361996 0.05455201 0.06292243\n",
      " 0.05488876 0.05950692 0.05924233 0.06405292 0.08192423 0.07398677\n",
      " 0.07420325 0.07304871 0.06898376 0.06167168 0.06535177 0.06381239\n",
      " 0.06111846 0.0594107  0.05943476 0.06316296 0.05017438 0.06008419\n",
      " 0.044546   0.05345364 0.05219891 0.05118345]\n",
      "3 day output [[0.0504397]]\n",
      "4 day input [0.62838244 0.62871918 0.62388455 0.64589296 0.6643175  0.64875526\n",
      " 0.66025256 0.63328924 0.65289236 0.66015634 0.65849669 0.65849669\n",
      " 0.68192423 0.6791341  0.70001203 0.7039567  0.70556825 0.70131088\n",
      " 0.71651233 0.72293446 0.711365   0.70948888 0.72901984 0.71595911\n",
      " 0.71858088 0.67598316 0.67377029 0.69488876 0.67990379 0.69710162\n",
      " 0.70816597 0.80505111 0.83081179 0.83781118 0.8416356  0.87858088\n",
      " 0.85173782 0.86727601 0.83502105 0.86999399 0.88923632 0.88825015\n",
      " 0.8853638  0.89455201 0.89594708 0.92064943 0.97929044 0.99360192\n",
      " 0.98366807 1.         0.98544799 0.9834997  0.09308479 0.10544799\n",
      " 0.09876127 0.07345761 0.07365003 0.05407096 0.06489477 0.0556825\n",
      " 0.05209862 0.06016837 0.06061335 0.0524113  0.04810583 0.03968731\n",
      " 0.04748046 0.05164161 0.04036079 0.04300661 0.0527721  0.05921828\n",
      " 0.05712568 0.06126278 0.06361996 0.05455201 0.06292243 0.05488876\n",
      " 0.05950692 0.05924233 0.06405292 0.08192423 0.07398677 0.07420325\n",
      " 0.07304871 0.06898376 0.06167168 0.06535177 0.06381239 0.06111846\n",
      " 0.0594107  0.05943476 0.06316296 0.05017438 0.06008419 0.044546\n",
      " 0.05345364 0.05219891 0.05118345 0.0504397 ]\n",
      "4 day output [[0.049932]]\n",
      "5 day input [0.62871918 0.62388455 0.64589296 0.6643175  0.64875526 0.66025256\n",
      " 0.63328924 0.65289236 0.66015634 0.65849669 0.65849669 0.68192423\n",
      " 0.6791341  0.70001203 0.7039567  0.70556825 0.70131088 0.71651233\n",
      " 0.72293446 0.711365   0.70948888 0.72901984 0.71595911 0.71858088\n",
      " 0.67598316 0.67377029 0.69488876 0.67990379 0.69710162 0.70816597\n",
      " 0.80505111 0.83081179 0.83781118 0.8416356  0.87858088 0.85173782\n",
      " 0.86727601 0.83502105 0.86999399 0.88923632 0.88825015 0.8853638\n",
      " 0.89455201 0.89594708 0.92064943 0.97929044 0.99360192 0.98366807\n",
      " 1.         0.98544799 0.9834997  0.09308479 0.10544799 0.09876127\n",
      " 0.07345761 0.07365003 0.05407096 0.06489477 0.0556825  0.05209862\n",
      " 0.06016837 0.06061335 0.0524113  0.04810583 0.03968731 0.04748046\n",
      " 0.05164161 0.04036079 0.04300661 0.0527721  0.05921828 0.05712568\n",
      " 0.06126278 0.06361996 0.05455201 0.06292243 0.05488876 0.05950692\n",
      " 0.05924233 0.06405292 0.08192423 0.07398677 0.07420325 0.07304871\n",
      " 0.06898376 0.06167168 0.06535177 0.06381239 0.06111846 0.0594107\n",
      " 0.05943476 0.06316296 0.05017438 0.06008419 0.044546   0.05345364\n",
      " 0.05219891 0.05118345 0.0504397  0.049932  ]\n",
      "5 day output [[0.04960523]]\n",
      "6 day input [0.62388455 0.64589296 0.6643175  0.64875526 0.66025256 0.63328924\n",
      " 0.65289236 0.66015634 0.65849669 0.65849669 0.68192423 0.6791341\n",
      " 0.70001203 0.7039567  0.70556825 0.70131088 0.71651233 0.72293446\n",
      " 0.711365   0.70948888 0.72901984 0.71595911 0.71858088 0.67598316\n",
      " 0.67377029 0.69488876 0.67990379 0.69710162 0.70816597 0.80505111\n",
      " 0.83081179 0.83781118 0.8416356  0.87858088 0.85173782 0.86727601\n",
      " 0.83502105 0.86999399 0.88923632 0.88825015 0.8853638  0.89455201\n",
      " 0.89594708 0.92064943 0.97929044 0.99360192 0.98366807 1.\n",
      " 0.98544799 0.9834997  0.09308479 0.10544799 0.09876127 0.07345761\n",
      " 0.07365003 0.05407096 0.06489477 0.0556825  0.05209862 0.06016837\n",
      " 0.06061335 0.0524113  0.04810583 0.03968731 0.04748046 0.05164161\n",
      " 0.04036079 0.04300661 0.0527721  0.05921828 0.05712568 0.06126278\n",
      " 0.06361996 0.05455201 0.06292243 0.05488876 0.05950692 0.05924233\n",
      " 0.06405292 0.08192423 0.07398677 0.07420325 0.07304871 0.06898376\n",
      " 0.06167168 0.06535177 0.06381239 0.06111846 0.0594107  0.05943476\n",
      " 0.06316296 0.05017438 0.06008419 0.044546   0.05345364 0.05219891\n",
      " 0.05118345 0.0504397  0.049932   0.04960523]\n",
      "6 day output [[0.04940876]]\n",
      "7 day input [0.64589296 0.6643175  0.64875526 0.66025256 0.63328924 0.65289236\n",
      " 0.66015634 0.65849669 0.65849669 0.68192423 0.6791341  0.70001203\n",
      " 0.7039567  0.70556825 0.70131088 0.71651233 0.72293446 0.711365\n",
      " 0.70948888 0.72901984 0.71595911 0.71858088 0.67598316 0.67377029\n",
      " 0.69488876 0.67990379 0.69710162 0.70816597 0.80505111 0.83081179\n",
      " 0.83781118 0.8416356  0.87858088 0.85173782 0.86727601 0.83502105\n",
      " 0.86999399 0.88923632 0.88825015 0.8853638  0.89455201 0.89594708\n",
      " 0.92064943 0.97929044 0.99360192 0.98366807 1.         0.98544799\n",
      " 0.9834997  0.09308479 0.10544799 0.09876127 0.07345761 0.07365003\n",
      " 0.05407096 0.06489477 0.0556825  0.05209862 0.06016837 0.06061335\n",
      " 0.0524113  0.04810583 0.03968731 0.04748046 0.05164161 0.04036079\n",
      " 0.04300661 0.0527721  0.05921828 0.05712568 0.06126278 0.06361996\n",
      " 0.05455201 0.06292243 0.05488876 0.05950692 0.05924233 0.06405292\n",
      " 0.08192423 0.07398677 0.07420325 0.07304871 0.06898376 0.06167168\n",
      " 0.06535177 0.06381239 0.06111846 0.0594107  0.05943476 0.06316296\n",
      " 0.05017438 0.06008419 0.044546   0.05345364 0.05219891 0.05118345\n",
      " 0.0504397  0.049932   0.04960523 0.04940876]\n",
      "7 day output [[0.04930322]]\n",
      "8 day input [0.6643175  0.64875526 0.66025256 0.63328924 0.65289236 0.66015634\n",
      " 0.65849669 0.65849669 0.68192423 0.6791341  0.70001203 0.7039567\n",
      " 0.70556825 0.70131088 0.71651233 0.72293446 0.711365   0.70948888\n",
      " 0.72901984 0.71595911 0.71858088 0.67598316 0.67377029 0.69488876\n",
      " 0.67990379 0.69710162 0.70816597 0.80505111 0.83081179 0.83781118\n",
      " 0.8416356  0.87858088 0.85173782 0.86727601 0.83502105 0.86999399\n",
      " 0.88923632 0.88825015 0.8853638  0.89455201 0.89594708 0.92064943\n",
      " 0.97929044 0.99360192 0.98366807 1.         0.98544799 0.9834997\n",
      " 0.09308479 0.10544799 0.09876127 0.07345761 0.07365003 0.05407096\n",
      " 0.06489477 0.0556825  0.05209862 0.06016837 0.06061335 0.0524113\n",
      " 0.04810583 0.03968731 0.04748046 0.05164161 0.04036079 0.04300661\n",
      " 0.0527721  0.05921828 0.05712568 0.06126278 0.06361996 0.05455201\n",
      " 0.06292243 0.05488876 0.05950692 0.05924233 0.06405292 0.08192423\n",
      " 0.07398677 0.07420325 0.07304871 0.06898376 0.06167168 0.06535177\n",
      " 0.06381239 0.06111846 0.0594107  0.05943476 0.06316296 0.05017438\n",
      " 0.06008419 0.044546   0.05345364 0.05219891 0.05118345 0.0504397\n",
      " 0.049932   0.04960523 0.04940876 0.04930322]\n",
      "8 day output [[0.04926094]]\n",
      "9 day input [0.64875526 0.66025256 0.63328924 0.65289236 0.66015634 0.65849669\n",
      " 0.65849669 0.68192423 0.6791341  0.70001203 0.7039567  0.70556825\n",
      " 0.70131088 0.71651233 0.72293446 0.711365   0.70948888 0.72901984\n",
      " 0.71595911 0.71858088 0.67598316 0.67377029 0.69488876 0.67990379\n",
      " 0.69710162 0.70816597 0.80505111 0.83081179 0.83781118 0.8416356\n",
      " 0.87858088 0.85173782 0.86727601 0.83502105 0.86999399 0.88923632\n",
      " 0.88825015 0.8853638  0.89455201 0.89594708 0.92064943 0.97929044\n",
      " 0.99360192 0.98366807 1.         0.98544799 0.9834997  0.09308479\n",
      " 0.10544799 0.09876127 0.07345761 0.07365003 0.05407096 0.06489477\n",
      " 0.0556825  0.05209862 0.06016837 0.06061335 0.0524113  0.04810583\n",
      " 0.03968731 0.04748046 0.05164161 0.04036079 0.04300661 0.0527721\n",
      " 0.05921828 0.05712568 0.06126278 0.06361996 0.05455201 0.06292243\n",
      " 0.05488876 0.05950692 0.05924233 0.06405292 0.08192423 0.07398677\n",
      " 0.07420325 0.07304871 0.06898376 0.06167168 0.06535177 0.06381239\n",
      " 0.06111846 0.0594107  0.05943476 0.06316296 0.05017438 0.06008419\n",
      " 0.044546   0.05345364 0.05219891 0.05118345 0.0504397  0.049932\n",
      " 0.04960523 0.04940876 0.04930322 0.04926094]\n",
      "9 day output [[0.04926239]]\n",
      "[[0.05345363914966583], [0.05219890922307968], [0.05118345096707344], [0.05043970048427582], [0.04993199557065964], [0.04960523173213005], [0.04940875619649887], [0.04930322244763374], [0.0492609441280365], [0.0492623895406723]]\n"
     ]
    }
   ],
   "source": [
    "from numpy import array\n",
    "\n",
    "lst_output=[]\n",
    "n_steps=100\n",
    "i=0\n",
    "while(i<10):\n",
    "    \n",
    "    if(len(temp_input)>100):\n",
    "        #print(temp_input)\n",
    "        x_input=np.array(temp_input[1:])\n",
    "        print(\"{} day input {}\".format(i,x_input))\n",
    "        x_input=x_input.reshape(1,-1)\n",
    "        x_input = x_input.reshape((1, n_steps, 1))\n",
    "        #print(x_input)\n",
    "        yhat = model.predict(x_input, verbose=0)\n",
    "        print(\"{} day output {}\".format(i,yhat))\n",
    "        temp_input.extend(yhat[0].tolist())\n",
    "        temp_input=temp_input[1:]\n",
    "        #print(temp_input)\n",
    "        lst_output.extend(yhat.tolist())\n",
    "        i=i+1\n",
    "    else:\n",
    "        x_input = x_input.reshape((1, n_steps,1))\n",
    "        yhat = model.predict(x_input, verbose=0)\n",
    "        print(yhat[0])\n",
    "        temp_input.extend(yhat[0].tolist())\n",
    "        print(len(temp_input))\n",
    "        lst_output.extend(yhat.tolist())\n",
    "        i=i+1\n",
    "    \n",
    "\n",
    "print(lst_output)"
   ]
  }
 ],
 "metadata": {
  "colab": {
   "collapsed_sections": [],
   "name": "deep learning mini project LSTM.ipynb",
   "provenance": []
  },
  "kernelspec": {
   "display_name": "Python 3",
   "language": "python",
   "name": "python3"
  },
  "language_info": {
   "codemirror_mode": {
    "name": "ipython",
    "version": 3
   },
   "file_extension": ".py",
   "mimetype": "text/x-python",
   "name": "python",
   "nbconvert_exporter": "python",
   "pygments_lexer": "ipython3",
   "version": "3.7.7"
  }
 },
 "nbformat": 4,
 "nbformat_minor": 1
}
